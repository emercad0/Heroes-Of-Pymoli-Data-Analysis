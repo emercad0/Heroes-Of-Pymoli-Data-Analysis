{
 "cells": [
  {
   "cell_type": "markdown",
   "metadata": {},
   "source": [
    "### Data Analytics"
   ]
  },
  {
   "cell_type": "markdown",
   "metadata": {},
   "source": [
    "### Homework 4: Heroes of Pymoli Data Analysis\n",
    "* * Of the 1163 active players, the vast majority are male (84%). There also exists, a smaller, but notable proportion of female players (14%).\n",
    "\n",
    "* Our peak age demographic falls between 20-24 (44.8%) with secondary groups falling between 15-19 (18.60%) and 25-29 (13.4%).  \n",
    "-----"
   ]
  },
  {
   "cell_type": "code",
   "execution_count": 135,
   "metadata": {},
   "outputs": [
    {
     "data": {
      "text/html": [
       "<style  type=\"text/css\" >\n",
       "    #T_1a43d836_c539_11e8_ae09_acde48001122row0_col0 {\n",
       "            background-color:  #365c8d;\n",
       "        }    #T_1a43d836_c539_11e8_ae09_acde48001122row0_col2 {\n",
       "            background-color:  #365c8d;\n",
       "        }    #T_1a43d836_c539_11e8_ae09_acde48001122row0_col4 {\n",
       "            background-color:  #20928c;\n",
       "        }    #T_1a43d836_c539_11e8_ae09_acde48001122row0_col6 {\n",
       "            background-color:  #48c16e;\n",
       "        }    #T_1a43d836_c539_11e8_ae09_acde48001122row1_col0 {\n",
       "            background-color:  #1f968b;\n",
       "        }    #T_1a43d836_c539_11e8_ae09_acde48001122row1_col2 {\n",
       "            background-color:  #fde725;\n",
       "        }    #T_1a43d836_c539_11e8_ae09_acde48001122row1_col4 {\n",
       "            background-color:  #fde725;\n",
       "        }    #T_1a43d836_c539_11e8_ae09_acde48001122row1_col6 {\n",
       "            background-color:  #365c8d;\n",
       "        }    #T_1a43d836_c539_11e8_ae09_acde48001122row2_col0 {\n",
       "            background-color:  #65cb5e;\n",
       "        }    #T_1a43d836_c539_11e8_ae09_acde48001122row2_col2 {\n",
       "            background-color:  #277f8e;\n",
       "        }    #T_1a43d836_c539_11e8_ae09_acde48001122row2_col4 {\n",
       "            background-color:  #365c8d;\n",
       "        }    #T_1a43d836_c539_11e8_ae09_acde48001122row2_col6 {\n",
       "            background-color:  #fde725;\n",
       "        }    #T_1a43d836_c539_11e8_ae09_acde48001122row3_col0 {\n",
       "            background-color:  #fde725;\n",
       "        }    #T_1a43d836_c539_11e8_ae09_acde48001122row3_col2 {\n",
       "            background-color:  #277f8e;\n",
       "        }    #T_1a43d836_c539_11e8_ae09_acde48001122row3_col4 {\n",
       "            background-color:  #2a778e;\n",
       "        }    #T_1a43d836_c539_11e8_ae09_acde48001122row3_col6 {\n",
       "            background-color:  #31b57b;\n",
       "        }</style>  \n",
       "<table id=\"T_1a43d836_c539_11e8_ae09_acde48001122\" > \n",
       "<thead>    <tr> \n",
       "        <th class=\"blank level0\" ></th> \n",
       "        <th class=\"col_heading level0 col0\" >Purchase ID</th> \n",
       "        <th class=\"col_heading level0 col1\" >SN</th> \n",
       "        <th class=\"col_heading level0 col2\" >Age</th> \n",
       "        <th class=\"col_heading level0 col3\" >Gender</th> \n",
       "        <th class=\"col_heading level0 col4\" >Item ID</th> \n",
       "        <th class=\"col_heading level0 col5\" >Item Name</th> \n",
       "        <th class=\"col_heading level0 col6\" >Price</th> \n",
       "    </tr></thead> \n",
       "<tbody>    <tr> \n",
       "        <th id=\"T_1a43d836_c539_11e8_ae09_acde48001122level0_row0\" class=\"row_heading level0 row0\" >0</th> \n",
       "        <td id=\"T_1a43d836_c539_11e8_ae09_acde48001122row0_col0\" class=\"data row0 col0\" >0</td> \n",
       "        <td id=\"T_1a43d836_c539_11e8_ae09_acde48001122row0_col1\" class=\"data row0 col1\" >Lisim78</td> \n",
       "        <td id=\"T_1a43d836_c539_11e8_ae09_acde48001122row0_col2\" class=\"data row0 col2\" >20</td> \n",
       "        <td id=\"T_1a43d836_c539_11e8_ae09_acde48001122row0_col3\" class=\"data row0 col3\" >Male</td> \n",
       "        <td id=\"T_1a43d836_c539_11e8_ae09_acde48001122row0_col4\" class=\"data row0 col4\" >108</td> \n",
       "        <td id=\"T_1a43d836_c539_11e8_ae09_acde48001122row0_col5\" class=\"data row0 col5\" >Extraction, Quickblade Of Trembling Hands</td> \n",
       "        <td id=\"T_1a43d836_c539_11e8_ae09_acde48001122row0_col6\" class=\"data row0 col6\" >3.53</td> \n",
       "    </tr>    <tr> \n",
       "        <th id=\"T_1a43d836_c539_11e8_ae09_acde48001122level0_row1\" class=\"row_heading level0 row1\" >1</th> \n",
       "        <td id=\"T_1a43d836_c539_11e8_ae09_acde48001122row1_col0\" class=\"data row1 col0\" >1</td> \n",
       "        <td id=\"T_1a43d836_c539_11e8_ae09_acde48001122row1_col1\" class=\"data row1 col1\" >Lisovynya38</td> \n",
       "        <td id=\"T_1a43d836_c539_11e8_ae09_acde48001122row1_col2\" class=\"data row1 col2\" >40</td> \n",
       "        <td id=\"T_1a43d836_c539_11e8_ae09_acde48001122row1_col3\" class=\"data row1 col3\" >Male</td> \n",
       "        <td id=\"T_1a43d836_c539_11e8_ae09_acde48001122row1_col4\" class=\"data row1 col4\" >143</td> \n",
       "        <td id=\"T_1a43d836_c539_11e8_ae09_acde48001122row1_col5\" class=\"data row1 col5\" >Frenzied Scimitar</td> \n",
       "        <td id=\"T_1a43d836_c539_11e8_ae09_acde48001122row1_col6\" class=\"data row1 col6\" >1.56</td> \n",
       "    </tr>    <tr> \n",
       "        <th id=\"T_1a43d836_c539_11e8_ae09_acde48001122level0_row2\" class=\"row_heading level0 row2\" >2</th> \n",
       "        <td id=\"T_1a43d836_c539_11e8_ae09_acde48001122row2_col0\" class=\"data row2 col0\" >2</td> \n",
       "        <td id=\"T_1a43d836_c539_11e8_ae09_acde48001122row2_col1\" class=\"data row2 col1\" >Ithergue48</td> \n",
       "        <td id=\"T_1a43d836_c539_11e8_ae09_acde48001122row2_col2\" class=\"data row2 col2\" >24</td> \n",
       "        <td id=\"T_1a43d836_c539_11e8_ae09_acde48001122row2_col3\" class=\"data row2 col3\" >Male</td> \n",
       "        <td id=\"T_1a43d836_c539_11e8_ae09_acde48001122row2_col4\" class=\"data row2 col4\" >92</td> \n",
       "        <td id=\"T_1a43d836_c539_11e8_ae09_acde48001122row2_col5\" class=\"data row2 col5\" >Final Critic</td> \n",
       "        <td id=\"T_1a43d836_c539_11e8_ae09_acde48001122row2_col6\" class=\"data row2 col6\" >4.88</td> \n",
       "    </tr>    <tr> \n",
       "        <th id=\"T_1a43d836_c539_11e8_ae09_acde48001122level0_row3\" class=\"row_heading level0 row3\" >3</th> \n",
       "        <td id=\"T_1a43d836_c539_11e8_ae09_acde48001122row3_col0\" class=\"data row3 col0\" >3</td> \n",
       "        <td id=\"T_1a43d836_c539_11e8_ae09_acde48001122row3_col1\" class=\"data row3 col1\" >Chamassasya86</td> \n",
       "        <td id=\"T_1a43d836_c539_11e8_ae09_acde48001122row3_col2\" class=\"data row3 col2\" >24</td> \n",
       "        <td id=\"T_1a43d836_c539_11e8_ae09_acde48001122row3_col3\" class=\"data row3 col3\" >Male</td> \n",
       "        <td id=\"T_1a43d836_c539_11e8_ae09_acde48001122row3_col4\" class=\"data row3 col4\" >100</td> \n",
       "        <td id=\"T_1a43d836_c539_11e8_ae09_acde48001122row3_col5\" class=\"data row3 col5\" >Blindscythe</td> \n",
       "        <td id=\"T_1a43d836_c539_11e8_ae09_acde48001122row3_col6\" class=\"data row3 col6\" >3.27</td> \n",
       "    </tr></tbody> \n",
       "</table> "
      ],
      "text/plain": [
       "<pandas.io.formats.style.Styler at 0x114ec6ba8>"
      ]
     },
     "execution_count": 135,
     "metadata": {},
     "output_type": "execute_result"
    }
   ],
   "source": [
    "# Dependencies and Setup\n",
    "import pandas as pd\n",
    "import numpy as np\n",
    "import matplotlib.cm as cm\n",
    "# Raw data file\n",
    "file_to_load = \"Resources/purchase_data.csv\"\n",
    "\n",
    "# Read purchasing file and store into pandas data frame\n",
    "purchase_data = pd.read_csv(file_to_load)\n",
    "#purchase_data.head()\n",
    "# I want to make the data more visible so I am adding more color\n",
    "wdata = purchase_data.loc[:3].style.background_gradient(cmap='viridis', low=.4, high=0)\n",
    "wdata"
   ]
  },
  {
   "cell_type": "code",
   "execution_count": 134,
   "metadata": {},
   "outputs": [],
   "source": [
    "#Let's get rid of all of the data that not's needed for now \n",
    "#Play with it \n",
    "df = pd.DataFrame({\"Total Player\":[purchase_data]})\n",
    "wdata.hide_index()\n",
    "data = pd.DataFrame(purchase_data)"
   ]
  },
  {
   "cell_type": "markdown",
   "metadata": {},
   "source": [
    "## Player Count"
   ]
  },
  {
   "cell_type": "code",
   "execution_count": 136,
   "metadata": {},
   "outputs": [
    {
     "data": {
      "text/html": [
       "<div>\n",
       "<style scoped>\n",
       "    .dataframe tbody tr th:only-of-type {\n",
       "        vertical-align: middle;\n",
       "    }\n",
       "\n",
       "    .dataframe tbody tr th {\n",
       "        vertical-align: top;\n",
       "    }\n",
       "\n",
       "    .dataframe thead th {\n",
       "        text-align: right;\n",
       "    }\n",
       "</style>\n",
       "<table border=\"1\" class=\"dataframe\">\n",
       "  <thead>\n",
       "    <tr style=\"text-align: right;\">\n",
       "      <th></th>\n",
       "      <th>Player Count</th>\n",
       "    </tr>\n",
       "  </thead>\n",
       "  <tbody>\n",
       "    <tr>\n",
       "      <th>0</th>\n",
       "      <td>576</td>\n",
       "    </tr>\n",
       "  </tbody>\n",
       "</table>\n",
       "</div>"
      ],
      "text/plain": [
       "   Player Count\n",
       "0           576"
      ]
     },
     "execution_count": 136,
     "metadata": {},
     "output_type": "execute_result"
    }
   ],
   "source": [
    "player = data.drop(['Purchase ID', 'Item ID', 'Item Name', 'Price'], axis=1)\n",
    "player = player.drop_duplicates('SN')\n",
    "player_count = pd.DataFrame({\"Player Count\": [player['SN'].count()]\n",
    "                            })\n",
    "player_count"
   ]
  },
  {
   "cell_type": "code",
   "execution_count": 142,
   "metadata": {},
   "outputs": [],
   "source": [
    "purchase_frame = pd.DataFrame(purchase_data)"
   ]
  },
  {
   "cell_type": "markdown",
   "metadata": {},
   "source": [
    "## Purchasing Analysis (Total)"
   ]
  },
  {
   "cell_type": "markdown",
   "metadata": {},
   "source": [
    "* Run basic calculations to obtain number of unique items, average price, etc.\n",
    "\n",
    "\n",
    "* Create a summary data frame to hold the results\n",
    "\n",
    "\n",
    "* Optional: give the displayed data cleaner formatting\n",
    "\n",
    "\n",
    "* Display the summary data frame\n"
   ]
  },
  {
   "cell_type": "code",
   "execution_count": 144,
   "metadata": {
    "scrolled": true
   },
   "outputs": [],
   "source": [
    "summary_data = pd.DataFrame({\"Number of Unique Items\":  [data['Item ID'].nunique()],\n",
    "                            \"Average Price\": [data['Price'].mean()],\n",
    "                            \"Number of Purchases\" : [data[\"Purchase ID\"].count()],\n",
    "                             \"Total Revenue\" : [data[\"Price\"].sum()]})"
   ]
  },
  {
   "cell_type": "code",
   "execution_count": 146,
   "metadata": {},
   "outputs": [
    {
     "data": {
      "text/html": [
       "<div>\n",
       "<style scoped>\n",
       "    .dataframe tbody tr th:only-of-type {\n",
       "        vertical-align: middle;\n",
       "    }\n",
       "\n",
       "    .dataframe tbody tr th {\n",
       "        vertical-align: top;\n",
       "    }\n",
       "\n",
       "    .dataframe thead th {\n",
       "        text-align: right;\n",
       "    }\n",
       "</style>\n",
       "<table border=\"1\" class=\"dataframe\">\n",
       "  <thead>\n",
       "    <tr style=\"text-align: right;\">\n",
       "      <th></th>\n",
       "      <th>Number of Unique Items</th>\n",
       "      <th>Average Price</th>\n",
       "      <th>Number of Purchases</th>\n",
       "      <th>Total Revenue</th>\n",
       "    </tr>\n",
       "  </thead>\n",
       "  <tbody>\n",
       "    <tr>\n",
       "      <th>0</th>\n",
       "      <td>183</td>\n",
       "      <td>$3.05</td>\n",
       "      <td>780</td>\n",
       "      <td>$2,379.77</td>\n",
       "    </tr>\n",
       "  </tbody>\n",
       "</table>\n",
       "</div>"
      ],
      "text/plain": [
       "   Number of Unique Items  Average Price  Number of Purchases  Total Revenue\n",
       "0                     183          $3.05                  780      $2,379.77"
      ]
     },
     "execution_count": 146,
     "metadata": {},
     "output_type": "execute_result"
    }
   ],
   "source": [
    "#Format to dollar symbol, commas and also round off to two decimal places\n",
    "#pd.options.display.float_format = '${:,.2f}'.format\n",
    "summary_data"
   ]
  },
  {
   "cell_type": "code",
   "execution_count": null,
   "metadata": {},
   "outputs": [],
   "source": []
  },
  {
   "cell_type": "code",
   "execution_count": 147,
   "metadata": {},
   "outputs": [],
   "source": [
    "gender_demo = player.drop(['SN'], axis=1)\n",
    "g = gender_demo.set_index(['Age'])\n",
    "g = g['Gender'].value_counts()\n",
    "#unq = data.drop_duplicates('SN')\n",
    "#unq_G = unq['Gender'].value_counts()\n",
    "#player['Gender'].value_counts() / player['Gender'].count() * 100\n",
    "#player['Gender'].value_counts()\n",
    "gender_dem = pd.DataFrame({\"Percentage of Players\": g / player['Gender'].count() * 100, \n",
    "                           \"Total Count\": g\n",
    "                         })\n",
    "#precise_gender_dem = pd.DataFrame({\"Percentage of Players\": g / unq.SN.count() * 100, \n",
    "#                         \"Total Count\": g\n",
    "#                          })\n"
   ]
  },
  {
   "cell_type": "markdown",
   "metadata": {},
   "source": [
    "## Gender Demographics"
   ]
  },
  {
   "cell_type": "code",
   "execution_count": 148,
   "metadata": {},
   "outputs": [
    {
     "data": {
      "text/html": [
       "<div>\n",
       "<style scoped>\n",
       "    .dataframe tbody tr th:only-of-type {\n",
       "        vertical-align: middle;\n",
       "    }\n",
       "\n",
       "    .dataframe tbody tr th {\n",
       "        vertical-align: top;\n",
       "    }\n",
       "\n",
       "    .dataframe thead th {\n",
       "        text-align: right;\n",
       "    }\n",
       "</style>\n",
       "<table border=\"1\" class=\"dataframe\">\n",
       "  <thead>\n",
       "    <tr style=\"text-align: right;\">\n",
       "      <th></th>\n",
       "      <th>Percentage of Players</th>\n",
       "      <th>Total Count</th>\n",
       "    </tr>\n",
       "  </thead>\n",
       "  <tbody>\n",
       "    <tr>\n",
       "      <th>Male</th>\n",
       "      <td>$84.03</td>\n",
       "      <td>484</td>\n",
       "    </tr>\n",
       "    <tr>\n",
       "      <th>Female</th>\n",
       "      <td>$14.06</td>\n",
       "      <td>81</td>\n",
       "    </tr>\n",
       "    <tr>\n",
       "      <th>Other / Non-Disclosed</th>\n",
       "      <td>$1.91</td>\n",
       "      <td>11</td>\n",
       "    </tr>\n",
       "  </tbody>\n",
       "</table>\n",
       "</div>"
      ],
      "text/plain": [
       "                       Percentage of Players  Total Count\n",
       "Male                                  $84.03          484\n",
       "Female                                $14.06           81\n",
       "Other / Non-Disclosed                  $1.91           11"
      ]
     },
     "execution_count": 148,
     "metadata": {},
     "output_type": "execute_result"
    }
   ],
   "source": [
    "gender_dem.round(2)\n"
   ]
  },
  {
   "cell_type": "markdown",
   "metadata": {},
   "source": [
    "* Run basic calculations to obtain number of unique items, average price, etc.\n",
    "\n",
    "\n",
    "* Create a summary data frame to hold the results\n",
    "\n",
    "\n",
    "* Optional: give the displayed data cleaner formatting\n",
    "\n",
    "\n",
    "* Display the summary data frame\n"
   ]
  },
  {
   "cell_type": "code",
   "execution_count": 149,
   "metadata": {},
   "outputs": [],
   "source": [
    "# Define the aggregation procedure outside of the groupby operation\n",
    "# This work but it appears that's depreceated s let's apply it \n",
    "#aggregations = {\n",
    "#    'Price': {\n",
    "#        'Purchase Count':   'count',\n",
    "#        'Average Purchase Price' : 'mean',\n",
    "#        'Total Purchase Value': 'sum',\n",
    "#        'Normalized Totals': 'mean'\n",
    "#    }\n",
    "#}\n",
    "#d = data.groupby('Gender').agg(aggregations)\n",
    "\n",
    "# Create a series \n",
    "def grouping(column):\n",
    "    d = {}\n",
    "    d['Purchase Count'] = column['Purchase ID'].count()\n",
    "    d['Average Purchase Price'] = column['Price'].mean()\n",
    "    d['Total Purchase Value'] = column['Price'].sum()\n",
    "    d['Normalized Totals'] = ( d['Total Purchase Value'] / d['Purchase Count']).sum()\n",
    "    return pd.Series(d, index=['Purchase Count', \n",
    "                               'Average Purchase Price', \n",
    "                               'Total Purchase Value', \n",
    "                               'Normalized Totals'])\n",
    "\n",
    "purchasing_Anly = data.groupby('Gender').apply(grouping)\n"
   ]
  },
  {
   "cell_type": "markdown",
   "metadata": {},
   "source": [
    "\n",
    "## Purchasing Analysis (Gender)"
   ]
  },
  {
   "cell_type": "markdown",
   "metadata": {},
   "source": [
    "* Run basic calculations to obtain purchase count, avg. purchase price, etc. by gender\n",
    "\n",
    "\n",
    "* For normalized purchasing, divide total purchase value by purchase count, by gender\n",
    "\n",
    "\n",
    "* Create a summary data frame to hold the results\n",
    "\n",
    "\n",
    "* Optional: give the displayed data cleaner formatting\n",
    "\n",
    "\n",
    "* Display the summary data frame"
   ]
  },
  {
   "cell_type": "code",
   "execution_count": 150,
   "metadata": {},
   "outputs": [
    {
     "data": {
      "text/html": [
       "<div>\n",
       "<style scoped>\n",
       "    .dataframe tbody tr th:only-of-type {\n",
       "        vertical-align: middle;\n",
       "    }\n",
       "\n",
       "    .dataframe tbody tr th {\n",
       "        vertical-align: top;\n",
       "    }\n",
       "\n",
       "    .dataframe thead th {\n",
       "        text-align: right;\n",
       "    }\n",
       "</style>\n",
       "<table border=\"1\" class=\"dataframe\">\n",
       "  <thead>\n",
       "    <tr style=\"text-align: right;\">\n",
       "      <th></th>\n",
       "      <th>Purchase Count</th>\n",
       "      <th>Average Purchase Price</th>\n",
       "      <th>Total Purchase Value</th>\n",
       "      <th>Normalized Totals</th>\n",
       "    </tr>\n",
       "    <tr>\n",
       "      <th>Gender</th>\n",
       "      <th></th>\n",
       "      <th></th>\n",
       "      <th></th>\n",
       "      <th></th>\n",
       "    </tr>\n",
       "  </thead>\n",
       "  <tbody>\n",
       "    <tr>\n",
       "      <th>Female</th>\n",
       "      <td>$113.00</td>\n",
       "      <td>$3.20</td>\n",
       "      <td>$361.94</td>\n",
       "      <td>$3.20</td>\n",
       "    </tr>\n",
       "    <tr>\n",
       "      <th>Male</th>\n",
       "      <td>$652.00</td>\n",
       "      <td>$3.02</td>\n",
       "      <td>$1,967.64</td>\n",
       "      <td>$3.02</td>\n",
       "    </tr>\n",
       "    <tr>\n",
       "      <th>Other / Non-Disclosed</th>\n",
       "      <td>$15.00</td>\n",
       "      <td>$3.35</td>\n",
       "      <td>$50.19</td>\n",
       "      <td>$3.35</td>\n",
       "    </tr>\n",
       "  </tbody>\n",
       "</table>\n",
       "</div>"
      ],
      "text/plain": [
       "                       Purchase Count  Average Purchase Price  \\\n",
       "Gender                                                          \n",
       "Female                        $113.00                   $3.20   \n",
       "Male                          $652.00                   $3.02   \n",
       "Other / Non-Disclosed          $15.00                   $3.35   \n",
       "\n",
       "                       Total Purchase Value  Normalized Totals  \n",
       "Gender                                                          \n",
       "Female                              $361.94              $3.20  \n",
       "Male                              $1,967.64              $3.02  \n",
       "Other / Non-Disclosed                $50.19              $3.35  "
      ]
     },
     "execution_count": 150,
     "metadata": {},
     "output_type": "execute_result"
    }
   ],
   "source": [
    "purchasing_Anly"
   ]
  },
  {
   "cell_type": "markdown",
   "metadata": {},
   "source": [
    "## Age Demographics"
   ]
  },
  {
   "cell_type": "markdown",
   "metadata": {},
   "source": [
    "* Establish bins for ages\n",
    "\n",
    "\n",
    "* Categorize the existing players using the age bins. Hint: use pd.cut()\n",
    "\n",
    "\n",
    "* Calculate the numbers and percentages by age group\n",
    "\n",
    "\n",
    "* Create a summary data frame to hold the results\n",
    "\n",
    "\n",
    "* Optional: round the percentage column to two decimal points\n",
    "\n",
    "\n",
    "* Display Age Demographics Table\n"
   ]
  },
  {
   "cell_type": "code",
   "execution_count": 197,
   "metadata": {},
   "outputs": [
    {
     "data": {
      "text/plain": [
       "Ages   Gender               \n",
       "<10    Male                      13\n",
       "       Female                     4\n",
       "10-14  Male                      19\n",
       "       Female                     3\n",
       "15-19  Male                      86\n",
       "       Female                    17\n",
       "       Other / Non-Disclosed      4\n",
       "20-24  Male                     214\n",
       "       Female                    40\n",
       "       Other / Non-Disclosed      4\n",
       "25-29  Male                      68\n",
       "       Female                     8\n",
       "       Other / Non-Disclosed      1\n",
       "30-34  Male                      47\n",
       "       Female                     5\n",
       "35-39  Male                      26\n",
       "       Female                     3\n",
       "       Other / Non-Disclosed      2\n",
       "40+    Male                      11\n",
       "       Female                     1\n",
       "Name: Gender, dtype: int64"
      ]
     },
     "execution_count": 197,
     "metadata": {},
     "output_type": "execute_result"
    }
   ],
   "source": [
    "# Establish bins for ages\n",
    "age_bins = [0, 9.90, 14.90, 19.90, 24.90, 29.90, 34.90, 39.90, 99999]\n",
    "group_names = [\"<10\", \"10-14\", \"15-19\", \"20-24\", \"25-29\", \"30-34\", \"35-39\", \"40+\"]\n",
    "\n",
    "gender_demo['Ages'] = pd.cut(gender_demo['Age'], age_bins, labels=group_names)\n",
    "ages_grp = gender_demo.groupby('Ages')['Gender'].value_counts()\n",
    "\n",
    "ages_grp"
   ]
  },
  {
   "cell_type": "markdown",
   "metadata": {},
   "source": [
    "## Purchasing Analysis (Age)"
   ]
  },
  {
   "cell_type": "markdown",
   "metadata": {},
   "source": [
    "* Bin the purchase_data data frame by age\n",
    "\n",
    "\n",
    "* Run basic calculations to obtain purchase count, avg. purchase price, etc. in the table below\n",
    "\n",
    "\n",
    "* Calculate Normalized Purchasing\n",
    "\n",
    "\n",
    "* Create a summary data frame to hold the results\n",
    "\n",
    "\n",
    "* Optional: give the displayed data cleaner formatting\n",
    "\n",
    "\n",
    "* Display the summary data frame"
   ]
  },
  {
   "cell_type": "code",
   "execution_count": null,
   "metadata": {},
   "outputs": [],
   "source": []
  },
  {
   "cell_type": "markdown",
   "metadata": {},
   "source": [
    "## Top Spenders"
   ]
  },
  {
   "cell_type": "markdown",
   "metadata": {},
   "source": [
    "* Run basic calculations to obtain the results in the table below\n",
    "\n",
    "\n",
    "* Create a summary data frame to hold the results\n",
    "\n",
    "\n",
    "* Sort the total purchase value column in descending order\n",
    "\n",
    "\n",
    "* Optional: give the displayed data cleaner formatting\n",
    "\n",
    "\n",
    "* Display a preview of the summary data frame\n",
    "\n"
   ]
  },
  {
   "cell_type": "code",
   "execution_count": null,
   "metadata": {},
   "outputs": [],
   "source": []
  },
  {
   "cell_type": "markdown",
   "metadata": {},
   "source": [
    "## Most Popular Items"
   ]
  },
  {
   "cell_type": "markdown",
   "metadata": {},
   "source": [
    "* Retrieve the Item ID, Item Name, and Item Price columns\n",
    "\n",
    "\n",
    "* Group by Item ID and Item Name. Perform calculations to obtain purchase count, item price, and total purchase value\n",
    "\n",
    "\n",
    "* Create a summary data frame to hold the results\n",
    "\n",
    "\n",
    "* Sort the purchase count column in descending order\n",
    "\n",
    "\n",
    "* Optional: give the displayed data cleaner formatting\n",
    "\n",
    "\n",
    "* Display a preview of the summary data frame\n",
    "\n"
   ]
  },
  {
   "cell_type": "code",
   "execution_count": null,
   "metadata": {},
   "outputs": [],
   "source": []
  },
  {
   "cell_type": "markdown",
   "metadata": {},
   "source": [
    "## Most Profitable Items"
   ]
  },
  {
   "cell_type": "markdown",
   "metadata": {},
   "source": [
    "* Sort the above table by total purchase value in descending order\n",
    "\n",
    "\n",
    "* Optional: give the displayed data cleaner formatting\n",
    "\n",
    "\n",
    "* Display a preview of the data frame\n",
    "\n"
   ]
  },
  {
   "cell_type": "code",
   "execution_count": null,
   "metadata": {
    "scrolled": true
   },
   "outputs": [],
   "source": []
  },
  {
   "cell_type": "code",
   "execution_count": null,
   "metadata": {},
   "outputs": [],
   "source": []
  }
 ],
 "metadata": {
  "anaconda-cloud": {},
  "kernel_info": {
   "name": "python3"
  },
  "kernelspec": {
   "display_name": "Python 3",
   "language": "python",
   "name": "python3"
  },
  "language_info": {
   "codemirror_mode": {
    "name": "ipython",
    "version": 3
   },
   "file_extension": ".py",
   "mimetype": "text/x-python",
   "name": "python",
   "nbconvert_exporter": "python",
   "pygments_lexer": "ipython3",
   "version": "3.6.5"
  },
  "nteract": {
   "version": "0.8.4"
  }
 },
 "nbformat": 4,
 "nbformat_minor": 1
}
